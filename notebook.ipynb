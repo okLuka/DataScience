{
 "cells": [
  {
   "cell_type": "code",
   "execution_count": null,
   "metadata": {},
   "outputs": [],
   "source": [
    "import pandas as pd\n",
    "import scipy.stats as stats\n",
    "import matplotlib.pyplot as plt\n",
    "import seaborn as sns\n",
    "\n",
    "\n",
    "data = pd.read_csv('Статистика.csv')\n",
    "\n",
    "# Проверка гипотез\n",
    "def check_hypotheses(data, age_threshold, work_days_threshold):\n",
    "    male_data = data[data['Пол'] == 'М']\n",
    "    female_data = data[data['Пол'] == 'Ж']\n",
    "\n",
    "    t_statistic_gender, p_value_gender = stats.ttest_ind(male_data['Количество больничных дней'], female_data['Количество больничных дней'])\n",
    "    older_than_age_data = data[data['Возраст'] > age_threshold]\n",
    "    younger_than_or_age_data = data[data['Возраст'] <= age_threshold]\n",
    "\n",
    "    t_statistic_age, p_value_age = stats.ttest_ind(older_than_age_data['Количество больничных дней'], younger_than_or_age_data['Количество больничных дней'])\n",
    "\n",
    "    return p_value_gender < 0.05, p_value_age < 0.05\n",
    "\n",
    "\n",
    "age_threshold = 35\n",
    "work_days_threshold = 2\n",
    "\n",
    "\n",
    "p_value_gender, p_value_age = check_hypotheses(data, age_threshold, work_days_threshold)\n",
    "\n",
    "\n",
    "print(\"Гипотеза 1: Мужчины пропускают в течение года более\", work_days_threshold, \"рабочих дней по болезни значимо чаще женщин\")\n",
    "print(\"Результат:\", \"Статистически значимо\" if p_value_gender else \"Не статистически значимо\")\n",
    "print()\n",
    "print(\"Гипотеза 2: Работники старше\", age_threshold, \"лет пропускают в течение года более\", work_days_threshold, \"рабочих дней по болезни значимо чаще своих более молодых коллег\")\n",
    "print(\"Результат:\", \"Статистически значимо\" if p_value_age else \"Не статистически значимо\")\n",
    "\n",
    "\n",
    "fig, axes = plt.subplots(1, 2, figsize=(12, 6))\n",
    "sns.histplot(data=data, x='Количество больничных дней', hue='Пол', ax=axes[0])\n",
    "sns.histplot(data=data, x='Количество больничных дней', hue=data['Возраст'] > age_threshold, ax=axes[1])\n",
    "axes[0].set_title('Распределение по полу')\n",
    "axes[1].set_title('Распределение по возрасту')\n",
    "plt.show()\n"
   ]
  }
 ],
 "metadata": {
  "language_info": {
   "name": "python"
  },
  "orig_nbformat": 4
 },
 "nbformat": 4,
 "nbformat_minor": 2
}
